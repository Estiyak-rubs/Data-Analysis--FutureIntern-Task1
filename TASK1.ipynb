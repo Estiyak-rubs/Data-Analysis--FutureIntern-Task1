{
  "nbformat": 4,
  "nbformat_minor": 0,
  "metadata": {
    "colab": {
      "provenance": []
    },
    "kernelspec": {
      "name": "python3",
      "display_name": "Python 3"
    },
    "language_info": {
      "name": "python"
    }
  },
  "cells": [
    {
      "cell_type": "markdown",
      "source": [
        "**LOAD DATA**\n"
      ],
      "metadata": {
        "id": "_E03lY4SAPSs"
      }
    },
    {
      "cell_type": "code",
      "execution_count": null,
      "metadata": {
        "colab": {
          "base_uri": "https://localhost:8080/"
        },
        "id": "RDRxs7Rp6kMN",
        "outputId": "001d8fa5-891d-4a49-d75f-a19bb9deb629"
      },
      "outputs": [
        {
          "output_type": "execute_result",
          "data": {
            "text/plain": [
              "(  Invoice StockCode                          Description  Quantity  \\\n",
              " 0  489434     85048  15CM CHRISTMAS GLASS BALL 20 LIGHTS        12   \n",
              " 1  489434    79323P                   PINK CHERRY LIGHTS        12   \n",
              " 2  489434    79323W                  WHITE CHERRY LIGHTS        12   \n",
              " 3  489434     22041         RECORD FRAME 7\" SINGLE SIZE         48   \n",
              " 4  489434     21232       STRAWBERRY CERAMIC TRINKET BOX        24   \n",
              " \n",
              "           InvoiceDate  Price  Customer ID         Country  \n",
              " 0 2009-12-01 07:45:00   6.95      13085.0  United Kingdom  \n",
              " 1 2009-12-01 07:45:00   6.75      13085.0  United Kingdom  \n",
              " 2 2009-12-01 07:45:00   6.75      13085.0  United Kingdom  \n",
              " 3 2009-12-01 07:45:00   2.10      13085.0  United Kingdom  \n",
              " 4 2009-12-01 07:45:00   1.25      13085.0  United Kingdom  ,\n",
              "   Invoice StockCode                          Description  Quantity  \\\n",
              " 0  536365    85123A   WHITE HANGING HEART T-LIGHT HOLDER         6   \n",
              " 1  536365     71053                  WHITE METAL LANTERN         6   \n",
              " 2  536365    84406B       CREAM CUPID HEARTS COAT HANGER         8   \n",
              " 3  536365    84029G  KNITTED UNION FLAG HOT WATER BOTTLE         6   \n",
              " 4  536365    84029E       RED WOOLLY HOTTIE WHITE HEART.         6   \n",
              " \n",
              "           InvoiceDate  Price  Customer ID         Country  \n",
              " 0 2010-12-01 08:26:00   2.55      17850.0  United Kingdom  \n",
              " 1 2010-12-01 08:26:00   3.39      17850.0  United Kingdom  \n",
              " 2 2010-12-01 08:26:00   2.75      17850.0  United Kingdom  \n",
              " 3 2010-12-01 08:26:00   3.39      17850.0  United Kingdom  \n",
              " 4 2010-12-01 08:26:00   3.39      17850.0  United Kingdom  )"
            ]
          },
          "metadata": {},
          "execution_count": 3
        }
      ],
      "source": [
        "import pandas as pd\n",
        "\n",
        "# Load the spreadsheet\n",
        "file_path = '/content/online_retail_II.xlsx'\n",
        "xls = pd.ExcelFile(file_path)\n",
        "\n",
        "# Load the sheets into separate DataFrames\n",
        "df_2009_2010 = pd.read_excel(xls, sheet_name='Year 2009-2010')\n",
        "df_2010_2011 = pd.read_excel(xls, sheet_name='Year 2010-2011')\n",
        "\n",
        "# Preview the first few rows to understand the structure\n",
        "df_2009_2010.head(), df_2010_2011.head()\n"
      ]
    },
    {
      "cell_type": "markdown",
      "source": [
        "**1.Checking Missing Value**"
      ],
      "metadata": {
        "id": "jbK9xdg-_9K0"
      }
    },
    {
      "cell_type": "code",
      "source": [
        "# Check for missing values in both datasets\n",
        "df_2009_2010.isnull().sum(), df_2010_2011.isnull().sum()\n"
      ],
      "metadata": {
        "colab": {
          "base_uri": "https://localhost:8080/"
        },
        "id": "pkAPW_X0ANgo",
        "outputId": "c45f2985-1c69-47f9-880e-5d8a558918cf"
      },
      "execution_count": null,
      "outputs": [
        {
          "output_type": "execute_result",
          "data": {
            "text/plain": [
              "(Invoice             0\n",
              " StockCode           0\n",
              " Description      2928\n",
              " Quantity            0\n",
              " InvoiceDate         0\n",
              " Price               0\n",
              " Customer ID    107927\n",
              " Country             0\n",
              " dtype: int64,\n",
              " Invoice             0\n",
              " StockCode           0\n",
              " Description      1454\n",
              " Quantity            0\n",
              " InvoiceDate         0\n",
              " Price               0\n",
              " Customer ID    135080\n",
              " Country             0\n",
              " dtype: int64)"
            ]
          },
          "metadata": {},
          "execution_count": 6
        }
      ]
    },
    {
      "cell_type": "markdown",
      "source": [
        "**Removing Data where CustomerID and Description are Null**"
      ],
      "metadata": {
        "id": "jbwfTOZODg7m"
      }
    },
    {
      "cell_type": "code",
      "source": [
        "# Drop rows where both 'Customer ID' and 'Description' are null\n",
        "df_2009_2010_cleaned = df_2009_2010.dropna(subset=['Customer ID', 'Description'], how='all')\n",
        "df_2010_2011_cleaned = df_2010_2011.dropna(subset=['Customer ID', 'Description'], how='all')\n",
        "\n",
        "# Verify the cleaning by checking the number of remaining missing values in 'Customer ID' and 'Description'\n",
        "df_2009_2010_cleaned[['Customer ID', 'Description']].isnull().sum(), df_2010_2011_cleaned[['Customer ID', 'Description']].isnull().sum()"
      ],
      "metadata": {
        "colab": {
          "base_uri": "https://localhost:8080/"
        },
        "id": "GBxH4gVqDy7p",
        "outputId": "a8250065-a50e-488e-d48e-43ef5eea7cf8"
      },
      "execution_count": null,
      "outputs": [
        {
          "output_type": "execute_result",
          "data": {
            "text/plain": [
              "(Customer ID    104999\n",
              " Description         0\n",
              " dtype: int64,\n",
              " Customer ID    133626\n",
              " Description         0\n",
              " dtype: int64)"
            ]
          },
          "metadata": {},
          "execution_count": 5
        }
      ]
    },
    {
      "cell_type": "markdown",
      "source": [
        "**CHNAGE DATE FORMAT IN EXCEL**"
      ],
      "metadata": {
        "id": "bNMMdYKDQFrq"
      }
    },
    {
      "cell_type": "code",
      "source": [
        "# Convert InvoiceDate to datetime\n",
        "df_2009_2010['InvoiceDate'] = pd.to_datetime(df_2009_2010['InvoiceDate'], errors='coerce')\n",
        "df_2010_2011['InvoiceDate'] = pd.to_datetime(df_2010_2011['InvoiceDate'], errors='coerce')\n",
        "\n",
        "# Check if the conversion was successful\n",
        "df_2009_2010['InvoiceDate'].head(), df_2010_2011['InvoiceDate'].head()\n"
      ],
      "metadata": {
        "colab": {
          "base_uri": "https://localhost:8080/"
        },
        "id": "azh97w4VEKLT",
        "outputId": "57de9584-7d6f-4a0a-fde6-bf236a2ac029"
      },
      "execution_count": null,
      "outputs": [
        {
          "output_type": "execute_result",
          "data": {
            "text/plain": [
              "(0   2009-12-01 07:45:00\n",
              " 1   2009-12-01 07:45:00\n",
              " 2   2009-12-01 07:45:00\n",
              " 3   2009-12-01 07:45:00\n",
              " 4   2009-12-01 07:45:00\n",
              " Name: InvoiceDate, dtype: datetime64[ns],\n",
              " 0   2010-12-01 08:26:00\n",
              " 1   2010-12-01 08:26:00\n",
              " 2   2010-12-01 08:26:00\n",
              " 3   2010-12-01 08:26:00\n",
              " 4   2010-12-01 08:26:00\n",
              " Name: InvoiceDate, dtype: datetime64[ns])"
            ]
          },
          "metadata": {},
          "execution_count": 16
        }
      ]
    },
    {
      "cell_type": "markdown",
      "source": [
        "**Delete Row where Quantity value is Negative**"
      ],
      "metadata": {
        "id": "WDdvA8ZUlC5d"
      }
    },
    {
      "cell_type": "code",
      "source": [
        "# Filter rows where Quantity is negative (if any)\n",
        "negative_quantity_2009_2010 = df_2009_2010[df_2009_2010['Quantity'] < 0]\n",
        "negative_quantity_2010_2011 = df_2010_2011[df_2010_2011['Quantity'] < 0]\n",
        "\n",
        "# Optionally, drop rows with negative Quantity or treat them as returns\n",
        "df_2009_2010_cleaned = df_2009_2010[df_2009_2010['Quantity'] > 0]\n",
        "df_2010_2011_cleaned = df_2010_2011[df_2010_2011['Quantity'] > 0]\n",
        "\n"
      ],
      "metadata": {
        "id": "MGqmKYUIGggU"
      },
      "execution_count": null,
      "outputs": []
    },
    {
      "cell_type": "markdown",
      "source": [
        "Handle Duplicates"
      ],
      "metadata": {
        "id": "pAHwLMFxG0Jk"
      }
    },
    {
      "cell_type": "code",
      "source": [
        "# Check for duplicate rows based on Invoice and StockCode\n",
        "duplicates_2009_2010 = df_2009_2010[df_2009_2010.duplicated(subset=['Invoice', 'StockCode','Description','Customer ID' ])]\n",
        "duplicates_2010_2011 = df_2010_2011[df_2010_2011.duplicated(subset=['Invoice', 'StockCode','Description','Customer ID'])]\n",
        "\n",
        "# Optionally, drop duplicates\n",
        "df_2009_2010_cleaned = df_2009_2010.drop_duplicates(subset=['Invoice', 'StockCode','Description','Customer ID'])\n",
        "df_2010_2011_cleaned = df_2010_2011.drop_duplicates(subset=['Invoice', 'StockCode','Description','Customer ID'])\n"
      ],
      "metadata": {
        "id": "GSX18ZgkG0nG"
      },
      "execution_count": null,
      "outputs": []
    },
    {
      "cell_type": "code",
      "source": [
        "df_2009_2010_cleaned.head()"
      ],
      "metadata": {
        "colab": {
          "base_uri": "https://localhost:8080/",
          "height": 206
        },
        "id": "7MOT3QeZI2JY",
        "outputId": "06a1fdd8-3233-4346-ff58-45ca32f34354"
      },
      "execution_count": null,
      "outputs": [
        {
          "output_type": "execute_result",
          "data": {
            "text/plain": [
              "  Invoice StockCode                          Description  Quantity  \\\n",
              "0  489434     85048  15CM CHRISTMAS GLASS BALL 20 LIGHTS        12   \n",
              "1  489434    79323P                   PINK CHERRY LIGHTS        12   \n",
              "2  489434    79323W                  WHITE CHERRY LIGHTS        12   \n",
              "3  489434     22041         RECORD FRAME 7\" SINGLE SIZE         48   \n",
              "4  489434     21232       STRAWBERRY CERAMIC TRINKET BOX        24   \n",
              "\n",
              "          InvoiceDate  Price  Customer ID         Country  \n",
              "0 2009-12-01 07:45:00   6.95      13085.0  United Kingdom  \n",
              "1 2009-12-01 07:45:00   6.75      13085.0  United Kingdom  \n",
              "2 2009-12-01 07:45:00   6.75      13085.0  United Kingdom  \n",
              "3 2009-12-01 07:45:00   2.10      13085.0  United Kingdom  \n",
              "4 2009-12-01 07:45:00   1.25      13085.0  United Kingdom  "
            ],
            "text/html": [
              "\n",
              "  <div id=\"df-78fe137e-292c-4397-a7e9-bf0e766b0081\" class=\"colab-df-container\">\n",
              "    <div>\n",
              "<style scoped>\n",
              "    .dataframe tbody tr th:only-of-type {\n",
              "        vertical-align: middle;\n",
              "    }\n",
              "\n",
              "    .dataframe tbody tr th {\n",
              "        vertical-align: top;\n",
              "    }\n",
              "\n",
              "    .dataframe thead th {\n",
              "        text-align: right;\n",
              "    }\n",
              "</style>\n",
              "<table border=\"1\" class=\"dataframe\">\n",
              "  <thead>\n",
              "    <tr style=\"text-align: right;\">\n",
              "      <th></th>\n",
              "      <th>Invoice</th>\n",
              "      <th>StockCode</th>\n",
              "      <th>Description</th>\n",
              "      <th>Quantity</th>\n",
              "      <th>InvoiceDate</th>\n",
              "      <th>Price</th>\n",
              "      <th>Customer ID</th>\n",
              "      <th>Country</th>\n",
              "    </tr>\n",
              "  </thead>\n",
              "  <tbody>\n",
              "    <tr>\n",
              "      <th>0</th>\n",
              "      <td>489434</td>\n",
              "      <td>85048</td>\n",
              "      <td>15CM CHRISTMAS GLASS BALL 20 LIGHTS</td>\n",
              "      <td>12</td>\n",
              "      <td>2009-12-01 07:45:00</td>\n",
              "      <td>6.95</td>\n",
              "      <td>13085.0</td>\n",
              "      <td>United Kingdom</td>\n",
              "    </tr>\n",
              "    <tr>\n",
              "      <th>1</th>\n",
              "      <td>489434</td>\n",
              "      <td>79323P</td>\n",
              "      <td>PINK CHERRY LIGHTS</td>\n",
              "      <td>12</td>\n",
              "      <td>2009-12-01 07:45:00</td>\n",
              "      <td>6.75</td>\n",
              "      <td>13085.0</td>\n",
              "      <td>United Kingdom</td>\n",
              "    </tr>\n",
              "    <tr>\n",
              "      <th>2</th>\n",
              "      <td>489434</td>\n",
              "      <td>79323W</td>\n",
              "      <td>WHITE CHERRY LIGHTS</td>\n",
              "      <td>12</td>\n",
              "      <td>2009-12-01 07:45:00</td>\n",
              "      <td>6.75</td>\n",
              "      <td>13085.0</td>\n",
              "      <td>United Kingdom</td>\n",
              "    </tr>\n",
              "    <tr>\n",
              "      <th>3</th>\n",
              "      <td>489434</td>\n",
              "      <td>22041</td>\n",
              "      <td>RECORD FRAME 7\" SINGLE SIZE</td>\n",
              "      <td>48</td>\n",
              "      <td>2009-12-01 07:45:00</td>\n",
              "      <td>2.10</td>\n",
              "      <td>13085.0</td>\n",
              "      <td>United Kingdom</td>\n",
              "    </tr>\n",
              "    <tr>\n",
              "      <th>4</th>\n",
              "      <td>489434</td>\n",
              "      <td>21232</td>\n",
              "      <td>STRAWBERRY CERAMIC TRINKET BOX</td>\n",
              "      <td>24</td>\n",
              "      <td>2009-12-01 07:45:00</td>\n",
              "      <td>1.25</td>\n",
              "      <td>13085.0</td>\n",
              "      <td>United Kingdom</td>\n",
              "    </tr>\n",
              "  </tbody>\n",
              "</table>\n",
              "</div>\n",
              "    <div class=\"colab-df-buttons\">\n",
              "\n",
              "  <div class=\"colab-df-container\">\n",
              "    <button class=\"colab-df-convert\" onclick=\"convertToInteractive('df-78fe137e-292c-4397-a7e9-bf0e766b0081')\"\n",
              "            title=\"Convert this dataframe to an interactive table.\"\n",
              "            style=\"display:none;\">\n",
              "\n",
              "  <svg xmlns=\"http://www.w3.org/2000/svg\" height=\"24px\" viewBox=\"0 -960 960 960\">\n",
              "    <path d=\"M120-120v-720h720v720H120Zm60-500h600v-160H180v160Zm220 220h160v-160H400v160Zm0 220h160v-160H400v160ZM180-400h160v-160H180v160Zm440 0h160v-160H620v160ZM180-180h160v-160H180v160Zm440 0h160v-160H620v160Z\"/>\n",
              "  </svg>\n",
              "    </button>\n",
              "\n",
              "  <style>\n",
              "    .colab-df-container {\n",
              "      display:flex;\n",
              "      gap: 12px;\n",
              "    }\n",
              "\n",
              "    .colab-df-convert {\n",
              "      background-color: #E8F0FE;\n",
              "      border: none;\n",
              "      border-radius: 50%;\n",
              "      cursor: pointer;\n",
              "      display: none;\n",
              "      fill: #1967D2;\n",
              "      height: 32px;\n",
              "      padding: 0 0 0 0;\n",
              "      width: 32px;\n",
              "    }\n",
              "\n",
              "    .colab-df-convert:hover {\n",
              "      background-color: #E2EBFA;\n",
              "      box-shadow: 0px 1px 2px rgba(60, 64, 67, 0.3), 0px 1px 3px 1px rgba(60, 64, 67, 0.15);\n",
              "      fill: #174EA6;\n",
              "    }\n",
              "\n",
              "    .colab-df-buttons div {\n",
              "      margin-bottom: 4px;\n",
              "    }\n",
              "\n",
              "    [theme=dark] .colab-df-convert {\n",
              "      background-color: #3B4455;\n",
              "      fill: #D2E3FC;\n",
              "    }\n",
              "\n",
              "    [theme=dark] .colab-df-convert:hover {\n",
              "      background-color: #434B5C;\n",
              "      box-shadow: 0px 1px 3px 1px rgba(0, 0, 0, 0.15);\n",
              "      filter: drop-shadow(0px 1px 2px rgba(0, 0, 0, 0.3));\n",
              "      fill: #FFFFFF;\n",
              "    }\n",
              "  </style>\n",
              "\n",
              "    <script>\n",
              "      const buttonEl =\n",
              "        document.querySelector('#df-78fe137e-292c-4397-a7e9-bf0e766b0081 button.colab-df-convert');\n",
              "      buttonEl.style.display =\n",
              "        google.colab.kernel.accessAllowed ? 'block' : 'none';\n",
              "\n",
              "      async function convertToInteractive(key) {\n",
              "        const element = document.querySelector('#df-78fe137e-292c-4397-a7e9-bf0e766b0081');\n",
              "        const dataTable =\n",
              "          await google.colab.kernel.invokeFunction('convertToInteractive',\n",
              "                                                    [key], {});\n",
              "        if (!dataTable) return;\n",
              "\n",
              "        const docLinkHtml = 'Like what you see? Visit the ' +\n",
              "          '<a target=\"_blank\" href=https://colab.research.google.com/notebooks/data_table.ipynb>data table notebook</a>'\n",
              "          + ' to learn more about interactive tables.';\n",
              "        element.innerHTML = '';\n",
              "        dataTable['output_type'] = 'display_data';\n",
              "        await google.colab.output.renderOutput(dataTable, element);\n",
              "        const docLink = document.createElement('div');\n",
              "        docLink.innerHTML = docLinkHtml;\n",
              "        element.appendChild(docLink);\n",
              "      }\n",
              "    </script>\n",
              "  </div>\n",
              "\n",
              "\n",
              "    <div id=\"df-60480d7b-c12c-45d1-9a03-f612b7b88b3a\">\n",
              "      <button class=\"colab-df-quickchart\" onclick=\"quickchart('df-60480d7b-c12c-45d1-9a03-f612b7b88b3a')\"\n",
              "                title=\"Suggest charts\"\n",
              "                style=\"display:none;\">\n",
              "\n",
              "<svg xmlns=\"http://www.w3.org/2000/svg\" height=\"24px\"viewBox=\"0 0 24 24\"\n",
              "     width=\"24px\">\n",
              "    <g>\n",
              "        <path d=\"M19 3H5c-1.1 0-2 .9-2 2v14c0 1.1.9 2 2 2h14c1.1 0 2-.9 2-2V5c0-1.1-.9-2-2-2zM9 17H7v-7h2v7zm4 0h-2V7h2v10zm4 0h-2v-4h2v4z\"/>\n",
              "    </g>\n",
              "</svg>\n",
              "      </button>\n",
              "\n",
              "<style>\n",
              "  .colab-df-quickchart {\n",
              "      --bg-color: #E8F0FE;\n",
              "      --fill-color: #1967D2;\n",
              "      --hover-bg-color: #E2EBFA;\n",
              "      --hover-fill-color: #174EA6;\n",
              "      --disabled-fill-color: #AAA;\n",
              "      --disabled-bg-color: #DDD;\n",
              "  }\n",
              "\n",
              "  [theme=dark] .colab-df-quickchart {\n",
              "      --bg-color: #3B4455;\n",
              "      --fill-color: #D2E3FC;\n",
              "      --hover-bg-color: #434B5C;\n",
              "      --hover-fill-color: #FFFFFF;\n",
              "      --disabled-bg-color: #3B4455;\n",
              "      --disabled-fill-color: #666;\n",
              "  }\n",
              "\n",
              "  .colab-df-quickchart {\n",
              "    background-color: var(--bg-color);\n",
              "    border: none;\n",
              "    border-radius: 50%;\n",
              "    cursor: pointer;\n",
              "    display: none;\n",
              "    fill: var(--fill-color);\n",
              "    height: 32px;\n",
              "    padding: 0;\n",
              "    width: 32px;\n",
              "  }\n",
              "\n",
              "  .colab-df-quickchart:hover {\n",
              "    background-color: var(--hover-bg-color);\n",
              "    box-shadow: 0 1px 2px rgba(60, 64, 67, 0.3), 0 1px 3px 1px rgba(60, 64, 67, 0.15);\n",
              "    fill: var(--button-hover-fill-color);\n",
              "  }\n",
              "\n",
              "  .colab-df-quickchart-complete:disabled,\n",
              "  .colab-df-quickchart-complete:disabled:hover {\n",
              "    background-color: var(--disabled-bg-color);\n",
              "    fill: var(--disabled-fill-color);\n",
              "    box-shadow: none;\n",
              "  }\n",
              "\n",
              "  .colab-df-spinner {\n",
              "    border: 2px solid var(--fill-color);\n",
              "    border-color: transparent;\n",
              "    border-bottom-color: var(--fill-color);\n",
              "    animation:\n",
              "      spin 1s steps(1) infinite;\n",
              "  }\n",
              "\n",
              "  @keyframes spin {\n",
              "    0% {\n",
              "      border-color: transparent;\n",
              "      border-bottom-color: var(--fill-color);\n",
              "      border-left-color: var(--fill-color);\n",
              "    }\n",
              "    20% {\n",
              "      border-color: transparent;\n",
              "      border-left-color: var(--fill-color);\n",
              "      border-top-color: var(--fill-color);\n",
              "    }\n",
              "    30% {\n",
              "      border-color: transparent;\n",
              "      border-left-color: var(--fill-color);\n",
              "      border-top-color: var(--fill-color);\n",
              "      border-right-color: var(--fill-color);\n",
              "    }\n",
              "    40% {\n",
              "      border-color: transparent;\n",
              "      border-right-color: var(--fill-color);\n",
              "      border-top-color: var(--fill-color);\n",
              "    }\n",
              "    60% {\n",
              "      border-color: transparent;\n",
              "      border-right-color: var(--fill-color);\n",
              "    }\n",
              "    80% {\n",
              "      border-color: transparent;\n",
              "      border-right-color: var(--fill-color);\n",
              "      border-bottom-color: var(--fill-color);\n",
              "    }\n",
              "    90% {\n",
              "      border-color: transparent;\n",
              "      border-bottom-color: var(--fill-color);\n",
              "    }\n",
              "  }\n",
              "</style>\n",
              "\n",
              "      <script>\n",
              "        async function quickchart(key) {\n",
              "          const quickchartButtonEl =\n",
              "            document.querySelector('#' + key + ' button');\n",
              "          quickchartButtonEl.disabled = true;  // To prevent multiple clicks.\n",
              "          quickchartButtonEl.classList.add('colab-df-spinner');\n",
              "          try {\n",
              "            const charts = await google.colab.kernel.invokeFunction(\n",
              "                'suggestCharts', [key], {});\n",
              "          } catch (error) {\n",
              "            console.error('Error during call to suggestCharts:', error);\n",
              "          }\n",
              "          quickchartButtonEl.classList.remove('colab-df-spinner');\n",
              "          quickchartButtonEl.classList.add('colab-df-quickchart-complete');\n",
              "        }\n",
              "        (() => {\n",
              "          let quickchartButtonEl =\n",
              "            document.querySelector('#df-60480d7b-c12c-45d1-9a03-f612b7b88b3a button');\n",
              "          quickchartButtonEl.style.display =\n",
              "            google.colab.kernel.accessAllowed ? 'block' : 'none';\n",
              "        })();\n",
              "      </script>\n",
              "    </div>\n",
              "\n",
              "    </div>\n",
              "  </div>\n"
            ],
            "application/vnd.google.colaboratory.intrinsic+json": {
              "type": "dataframe",
              "variable_name": "df_2009_2010_cleaned"
            }
          },
          "metadata": {},
          "execution_count": 9
        }
      ]
    },
    {
      "cell_type": "code",
      "source": [
        "# Create a copy of the DataFrames to avoid modifying a view\n",
        "df_2009_2010_cleaned = df_2009_2010_cleaned.copy()\n",
        "df_2010_2011_cleaned = df_2010_2011_cleaned.copy()\n",
        "\n",
        "# Remove non-numeric characters from 'StockCode' (keeping only numbers)\n",
        "df_2009_2010_cleaned['StockCode'] = df_2009_2010_cleaned['StockCode'].astype(str).str.extract('(\\d+)', expand=False)\n",
        "df_2010_2011_cleaned['StockCode'] = df_2010_2011_cleaned['StockCode'].astype(str).str.extract('(\\d+)', expand=False)\n",
        "\n",
        "# Verify the changes\n",
        "df_2009_2010_cleaned['StockCode'].head(), df_2010_2011_cleaned['StockCode'].head()\n"
      ],
      "metadata": {
        "colab": {
          "base_uri": "https://localhost:8080/"
        },
        "id": "rNf9xSN_Q5dq",
        "outputId": "d9bbf861-7b3e-492f-ff4a-db5648109239"
      },
      "execution_count": null,
      "outputs": [
        {
          "output_type": "execute_result",
          "data": {
            "text/plain": [
              "(0    85048\n",
              " 1    79323\n",
              " 2    79323\n",
              " 3    22041\n",
              " 4    21232\n",
              " Name: StockCode, dtype: object,\n",
              " 0    85123\n",
              " 1    71053\n",
              " 2    84406\n",
              " 3    84029\n",
              " 4    84029\n",
              " Name: StockCode, dtype: object)"
            ]
          },
          "metadata": {},
          "execution_count": 11
        }
      ]
    },
    {
      "cell_type": "code",
      "source": [
        "# Standardize the 'Country' column (remove leading/trailing spaces and convert to title case)\n",
        "df_2009_2010_cleaned['Country'] = df_2009_2010_cleaned['Country'].str.strip().str.title()\n",
        "df_2010_2011_cleaned['Country'] = df_2010_2011_cleaned['Country'].str.strip().str.title()\n",
        "\n",
        "# Check the unique values in 'Country' to ensure consistency\n",
        "df_2009_2010_cleaned['Country'].unique(), df_2010_2011_cleaned['Country'].unique()\n"
      ],
      "metadata": {
        "colab": {
          "base_uri": "https://localhost:8080/"
        },
        "id": "MLjre0IrMwyv",
        "outputId": "edb3dab7-da19-4bae-8da6-8cf7e517a2a6"
      },
      "execution_count": null,
      "outputs": [
        {
          "output_type": "execute_result",
          "data": {
            "text/plain": [
              "(array(['United Kingdom', 'France', 'Usa', 'Belgium', 'Australia', 'Eire',\n",
              "        'Germany', 'Portugal', 'Japan', 'Denmark', 'Nigeria',\n",
              "        'Netherlands', 'Poland', 'Spain', 'Channel Islands', 'Italy',\n",
              "        'Cyprus', 'Greece', 'Norway', 'Austria', 'Sweden',\n",
              "        'United Arab Emirates', 'Finland', 'Switzerland', 'Unspecified',\n",
              "        'Malta', 'Bahrain', 'Rsa', 'Bermuda', 'Hong Kong', 'Singapore',\n",
              "        'Thailand', 'Israel', 'Lithuania', 'West Indies', 'Lebanon',\n",
              "        'Korea', 'Brazil', 'Canada', 'Iceland'], dtype=object),\n",
              " array(['United Kingdom', 'France', 'Australia', 'Netherlands', 'Germany',\n",
              "        'Norway', 'Eire', 'Switzerland', 'Spain', 'Poland', 'Portugal',\n",
              "        'Italy', 'Belgium', 'Lithuania', 'Japan', 'Iceland',\n",
              "        'Channel Islands', 'Denmark', 'Cyprus', 'Sweden', 'Austria',\n",
              "        'Israel', 'Finland', 'Bahrain', 'Greece', 'Hong Kong', 'Singapore',\n",
              "        'Lebanon', 'United Arab Emirates', 'Saudi Arabia',\n",
              "        'Czech Republic', 'Canada', 'Unspecified', 'Brazil', 'Usa',\n",
              "        'European Community', 'Malta', 'Rsa'], dtype=object))"
            ]
          },
          "metadata": {},
          "execution_count": 12
        }
      ]
    },
    {
      "cell_type": "code",
      "source": [
        "# Check for missing values in numeric columns (Quantity, Price)\n",
        "df_2009_2010_cleaned[['Quantity', 'Price']].isnull().sum(), df_2010_2011_cleaned[['Quantity', 'Price']].isnull().sum()\n",
        "\n",
        "# Optionally fill missing numeric values (e.g., with 0 or the median)\n",
        "df_2009_2010_cleaned[['Quantity', 'Price']] = df_2009_2010_cleaned[['Quantity', 'Price']].fillna(0)\n",
        "df_2010_2011_cleaned[['Quantity', 'Price']] = df_2010_2011_cleaned[['Quantity', 'Price']].fillna(0)\n"
      ],
      "metadata": {
        "id": "e77tySHQM2Hi"
      },
      "execution_count": null,
      "outputs": []
    },
    {
      "cell_type": "code",
      "source": [
        "# Remove rows where 'Invoice' contains non-numeric values\n",
        "df_2009_2010_cleaned = df_2009_2010_cleaned[df_2009_2010_cleaned['Invoice'].astype(str).str.isnumeric()]\n",
        "df_2010_2011_cleaned = df_2010_2011_cleaned[df_2010_2011_cleaned['Invoice'].astype(str).str.isnumeric()]\n",
        "\n",
        "# Verify the changes by checking the first few rows\n",
        "df_2009_2010_cleaned['Invoice'].head(), df_2010_2011_cleaned['Invoice'].head()\n"
      ],
      "metadata": {
        "colab": {
          "base_uri": "https://localhost:8080/"
        },
        "id": "11XesZCnByV0",
        "outputId": "3e86ee47-cf2f-47d0-8236-9e63353fcbb3"
      },
      "execution_count": null,
      "outputs": [
        {
          "output_type": "execute_result",
          "data": {
            "text/plain": [
              "(0    489434\n",
              " 1    489434\n",
              " 2    489434\n",
              " 3    489434\n",
              " 4    489434\n",
              " Name: Invoice, dtype: object,\n",
              " 0    536365\n",
              " 1    536365\n",
              " 2    536365\n",
              " 3    536365\n",
              " 4    536365\n",
              " Name: Invoice, dtype: object)"
            ]
          },
          "metadata": {},
          "execution_count": 14
        }
      ]
    },
    {
      "cell_type": "code",
      "source": [
        "# Save the cleaned data to new Excel files\n",
        "df_2009_2010_cleaned.to_excel('cleaned_online_retail_2009_2010.xlsx', index=False)\n",
        "df_2010_2011_cleaned.to_excel('cleaned_online_retail_2010_2011.xlsx', index=False)\n"
      ],
      "metadata": {
        "id": "zj4ZszDiNBJE"
      },
      "execution_count": null,
      "outputs": []
    }
  ]
}